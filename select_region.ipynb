{
 "cells": [
  {
   "cell_type": "code",
   "execution_count": 1,
   "metadata": {},
   "outputs": [],
   "source": [
    "import os\n",
    "import pandas as pd"
   ]
  },
  {
   "cell_type": "code",
   "execution_count": 16,
   "metadata": {},
   "outputs": [
    {
     "data": {
      "text/html": [
       "<div>\n",
       "<style scoped>\n",
       "    .dataframe tbody tr th:only-of-type {\n",
       "        vertical-align: middle;\n",
       "    }\n",
       "\n",
       "    .dataframe tbody tr th {\n",
       "        vertical-align: top;\n",
       "    }\n",
       "\n",
       "    .dataframe thead th {\n",
       "        text-align: right;\n",
       "    }\n",
       "</style>\n",
       "<table border=\"1\" class=\"dataframe\">\n",
       "  <thead>\n",
       "    <tr style=\"text-align: right;\">\n",
       "      <th></th>\n",
       "      <th>0</th>\n",
       "      <th>1</th>\n",
       "      <th>2</th>\n",
       "      <th>3</th>\n",
       "      <th>4</th>\n",
       "      <th>5</th>\n",
       "      <th>6</th>\n",
       "      <th>7</th>\n",
       "      <th>8</th>\n",
       "      <th>9</th>\n",
       "      <th>10</th>\n",
       "      <th>11</th>\n",
       "    </tr>\n",
       "  </thead>\n",
       "  <tbody>\n",
       "    <tr>\n",
       "      <th>0</th>\n",
       "      <td>chr20</td>\n",
       "      <td>32761950</td>\n",
       "      <td>32761972</td>\n",
       "      <td>DigenomeSeq-HEK4-on-target</td>\n",
       "      <td>19.26</td>\n",
       "      <td>+</td>\n",
       "      <td>chr20</td>\n",
       "      <td>32761950</td>\n",
       "      <td>32761972</td>\n",
       "      <td>HEK239T-site4-on-target</td>\n",
       "      <td>115</td>\n",
       "      <td>+</td>\n",
       "    </tr>\n",
       "    <tr>\n",
       "      <th>1</th>\n",
       "      <td>chr6</td>\n",
       "      <td>160096843</td>\n",
       "      <td>160096865</td>\n",
       "      <td>DigenomeSeq-HEK4-off-target-1</td>\n",
       "      <td>15.45</td>\n",
       "      <td>-</td>\n",
       "      <td>chr6</td>\n",
       "      <td>160096843</td>\n",
       "      <td>160096865</td>\n",
       "      <td>HEK239T-site4-Detect-off-target-15</td>\n",
       "      <td>88</td>\n",
       "      <td>-</td>\n",
       "    </tr>\n",
       "    <tr>\n",
       "      <th>2</th>\n",
       "      <td>chr6</td>\n",
       "      <td>168386442</td>\n",
       "      <td>168386463</td>\n",
       "      <td>DigenomeSeq-HEK4-off-target-2</td>\n",
       "      <td>15.37</td>\n",
       "      <td>+</td>\n",
       "      <td>chr6</td>\n",
       "      <td>168386442</td>\n",
       "      <td>168386464</td>\n",
       "      <td>HEK239T-site4-Detect-off-target-27</td>\n",
       "      <td>59</td>\n",
       "      <td>+</td>\n",
       "    </tr>\n",
       "    <tr>\n",
       "      <th>3</th>\n",
       "      <td>chr19</td>\n",
       "      <td>32891169</td>\n",
       "      <td>32891191</td>\n",
       "      <td>DigenomeSeq-HEK4-off-target-3</td>\n",
       "      <td>13.83</td>\n",
       "      <td>-</td>\n",
       "      <td>chr19</td>\n",
       "      <td>32891169</td>\n",
       "      <td>32891191</td>\n",
       "      <td>HEK239T-site4-Detect-off-target-20</td>\n",
       "      <td>88</td>\n",
       "      <td>-</td>\n",
       "    </tr>\n",
       "    <tr>\n",
       "      <th>4</th>\n",
       "      <td>chr20</td>\n",
       "      <td>61505481</td>\n",
       "      <td>61505503</td>\n",
       "      <td>DigenomeSeq-HEK4-off-target-4</td>\n",
       "      <td>12.71</td>\n",
       "      <td>+</td>\n",
       "      <td>chr20</td>\n",
       "      <td>61505481</td>\n",
       "      <td>61505503</td>\n",
       "      <td>HEK239T-site4-Detect-off-target-83</td>\n",
       "      <td>70</td>\n",
       "      <td>+</td>\n",
       "    </tr>\n",
       "    <tr>\n",
       "      <th>...</th>\n",
       "      <td>...</td>\n",
       "      <td>...</td>\n",
       "      <td>...</td>\n",
       "      <td>...</td>\n",
       "      <td>...</td>\n",
       "      <td>...</td>\n",
       "      <td>...</td>\n",
       "      <td>...</td>\n",
       "      <td>...</td>\n",
       "      <td>...</td>\n",
       "      <td>...</td>\n",
       "      <td>...</td>\n",
       "    </tr>\n",
       "    <tr>\n",
       "      <th>62</th>\n",
       "      <td>chr5</td>\n",
       "      <td>139904456</td>\n",
       "      <td>139904478</td>\n",
       "      <td>DigenomeSeq-HEK4-off-target-62</td>\n",
       "      <td>0.12</td>\n",
       "      <td>-</td>\n",
       "      <td>.</td>\n",
       "      <td>-1</td>\n",
       "      <td>-1</td>\n",
       "      <td>.</td>\n",
       "      <td>-1</td>\n",
       "      <td>.</td>\n",
       "    </tr>\n",
       "    <tr>\n",
       "      <th>63</th>\n",
       "      <td>chr8</td>\n",
       "      <td>118214890</td>\n",
       "      <td>118214912</td>\n",
       "      <td>DigenomeSeq-HEK4-off-target-63</td>\n",
       "      <td>0.12</td>\n",
       "      <td>+</td>\n",
       "      <td>.</td>\n",
       "      <td>-1</td>\n",
       "      <td>-1</td>\n",
       "      <td>.</td>\n",
       "      <td>-1</td>\n",
       "      <td>.</td>\n",
       "    </tr>\n",
       "    <tr>\n",
       "      <th>64</th>\n",
       "      <td>chr14</td>\n",
       "      <td>95294906</td>\n",
       "      <td>95294928</td>\n",
       "      <td>DigenomeSeq-HEK4-off-target-64</td>\n",
       "      <td>0.11</td>\n",
       "      <td>-</td>\n",
       "      <td>.</td>\n",
       "      <td>-1</td>\n",
       "      <td>-1</td>\n",
       "      <td>.</td>\n",
       "      <td>-1</td>\n",
       "      <td>.</td>\n",
       "    </tr>\n",
       "    <tr>\n",
       "      <th>65</th>\n",
       "      <td>chr3</td>\n",
       "      <td>23610022</td>\n",
       "      <td>23610044</td>\n",
       "      <td>DigenomeSeq-HEK4-off-target-65</td>\n",
       "      <td>0.11</td>\n",
       "      <td>+</td>\n",
       "      <td>.</td>\n",
       "      <td>-1</td>\n",
       "      <td>-1</td>\n",
       "      <td>.</td>\n",
       "      <td>-1</td>\n",
       "      <td>.</td>\n",
       "    </tr>\n",
       "    <tr>\n",
       "      <th>66</th>\n",
       "      <td>chr12</td>\n",
       "      <td>9134803</td>\n",
       "      <td>9134825</td>\n",
       "      <td>DigenomeSeq-HEK4-off-target-66</td>\n",
       "      <td>0.10</td>\n",
       "      <td>+</td>\n",
       "      <td>.</td>\n",
       "      <td>-1</td>\n",
       "      <td>-1</td>\n",
       "      <td>.</td>\n",
       "      <td>-1</td>\n",
       "      <td>.</td>\n",
       "    </tr>\n",
       "  </tbody>\n",
       "</table>\n",
       "<p>67 rows × 12 columns</p>\n",
       "</div>"
      ],
      "text/plain": [
       "       0          1          2                               3      4  5   \\\n",
       "0   chr20   32761950   32761972      DigenomeSeq-HEK4-on-target  19.26  +   \n",
       "1    chr6  160096843  160096865   DigenomeSeq-HEK4-off-target-1  15.45  -   \n",
       "2    chr6  168386442  168386463   DigenomeSeq-HEK4-off-target-2  15.37  +   \n",
       "3   chr19   32891169   32891191   DigenomeSeq-HEK4-off-target-3  13.83  -   \n",
       "4   chr20   61505481   61505503   DigenomeSeq-HEK4-off-target-4  12.71  +   \n",
       "..    ...        ...        ...                             ...    ... ..   \n",
       "62   chr5  139904456  139904478  DigenomeSeq-HEK4-off-target-62   0.12  -   \n",
       "63   chr8  118214890  118214912  DigenomeSeq-HEK4-off-target-63   0.12  +   \n",
       "64  chr14   95294906   95294928  DigenomeSeq-HEK4-off-target-64   0.11  -   \n",
       "65   chr3   23610022   23610044  DigenomeSeq-HEK4-off-target-65   0.11  +   \n",
       "66  chr12    9134803    9134825  DigenomeSeq-HEK4-off-target-66   0.10  +   \n",
       "\n",
       "       6          7          8                                   9    10 11  \n",
       "0   chr20   32761950   32761972             HEK239T-site4-on-target  115  +  \n",
       "1    chr6  160096843  160096865  HEK239T-site4-Detect-off-target-15   88  -  \n",
       "2    chr6  168386442  168386464  HEK239T-site4-Detect-off-target-27   59  +  \n",
       "3   chr19   32891169   32891191  HEK239T-site4-Detect-off-target-20   88  -  \n",
       "4   chr20   61505481   61505503  HEK239T-site4-Detect-off-target-83   70  +  \n",
       "..    ...        ...        ...                                 ...  ... ..  \n",
       "62      .         -1         -1                                   .   -1  .  \n",
       "63      .         -1         -1                                   .   -1  .  \n",
       "64      .         -1         -1                                   .   -1  .  \n",
       "65      .         -1         -1                                   .   -1  .  \n",
       "66      .         -1         -1                                   .   -1  .  \n",
       "\n",
       "[67 rows x 12 columns]"
      ]
     },
     "execution_count": 16,
     "metadata": {},
     "output_type": "execute_result"
    }
   ],
   "source": [
    "df_detectseq = pd.read_csv('./bed/DetectSeq_vs_DigenomeSeq_base-on_DetectSeq_HEK4.csv', header=None, sep='\\t')\n",
    "# df_detectseq\n",
    "df_digenomeseq = pd.read_csv('./bed/DetectSeq_vs_DigenomeSeq_base-on_DigenomeSeq_HEK4.csv', header=None, sep='\\t')\n",
    "df_digenomeseq"
   ]
  },
  {
   "cell_type": "code",
   "execution_count": 17,
   "metadata": {},
   "outputs": [],
   "source": [
    "df_detectseq_only = df_detectseq[df_detectseq.iloc[:,7] == -1][[0,1,2]].copy()\n",
    "df_detectseq_sharewith_digenomeseq = df_detectseq[df_detectseq.iloc[:,7] != -1][[0,1,2]].copy()\n",
    "df_digenomeseq_only = df_digenomeseq[df_digenomeseq.iloc[:,7] == -1][[0,1,2]].copy()\n",
    "df_digenomeseq_sharewith_detectseq = df_digenomeseq[df_digenomeseq.iloc[:,7] != -1][[0,1,2]].copy()"
   ]
  },
  {
   "cell_type": "code",
   "execution_count": 18,
   "metadata": {},
   "outputs": [
    {
     "data": {
      "text/html": [
       "<div>\n",
       "<style scoped>\n",
       "    .dataframe tbody tr th:only-of-type {\n",
       "        vertical-align: middle;\n",
       "    }\n",
       "\n",
       "    .dataframe tbody tr th {\n",
       "        vertical-align: top;\n",
       "    }\n",
       "\n",
       "    .dataframe thead th {\n",
       "        text-align: right;\n",
       "    }\n",
       "</style>\n",
       "<table border=\"1\" class=\"dataframe\">\n",
       "  <thead>\n",
       "    <tr style=\"text-align: right;\">\n",
       "      <th></th>\n",
       "      <th>0</th>\n",
       "      <th>1</th>\n",
       "      <th>2</th>\n",
       "    </tr>\n",
       "  </thead>\n",
       "  <tbody>\n",
       "    <tr>\n",
       "      <th>1</th>\n",
       "      <td>chr9</td>\n",
       "      <td>108855909</td>\n",
       "      <td>108856091</td>\n",
       "    </tr>\n",
       "    <tr>\n",
       "      <th>3</th>\n",
       "      <td>chr1</td>\n",
       "      <td>109486969</td>\n",
       "      <td>109487151</td>\n",
       "    </tr>\n",
       "    <tr>\n",
       "      <th>7</th>\n",
       "      <td>chr1</td>\n",
       "      <td>55352355</td>\n",
       "      <td>55352537</td>\n",
       "    </tr>\n",
       "    <tr>\n",
       "      <th>9</th>\n",
       "      <td>chr5</td>\n",
       "      <td>1230141</td>\n",
       "      <td>1230323</td>\n",
       "    </tr>\n",
       "    <tr>\n",
       "      <th>10</th>\n",
       "      <td>chr11</td>\n",
       "      <td>72632743</td>\n",
       "      <td>72632925</td>\n",
       "    </tr>\n",
       "  </tbody>\n",
       "</table>\n",
       "</div>"
      ],
      "text/plain": [
       "        0          1          2\n",
       "1    chr9  108855909  108856091\n",
       "3    chr1  109486969  109487151\n",
       "7    chr1   55352355   55352537\n",
       "9    chr5    1230141    1230323\n",
       "10  chr11   72632743   72632925"
      ]
     },
     "execution_count": 18,
     "metadata": {},
     "output_type": "execute_result"
    }
   ],
   "source": [
    "df_detectseq_only.iloc[:,1] = df_detectseq_only.iloc[:,1] - 80\n",
    "df_detectseq_only.iloc[:,2] = df_detectseq_only.iloc[:,2] + 80\n",
    "df_detectseq_only.head()"
   ]
  },
  {
   "cell_type": "code",
   "execution_count": 19,
   "metadata": {},
   "outputs": [
    {
     "data": {
      "text/html": [
       "<div>\n",
       "<style scoped>\n",
       "    .dataframe tbody tr th:only-of-type {\n",
       "        vertical-align: middle;\n",
       "    }\n",
       "\n",
       "    .dataframe tbody tr th {\n",
       "        vertical-align: top;\n",
       "    }\n",
       "\n",
       "    .dataframe thead th {\n",
       "        text-align: right;\n",
       "    }\n",
       "</style>\n",
       "<table border=\"1\" class=\"dataframe\">\n",
       "  <thead>\n",
       "    <tr style=\"text-align: right;\">\n",
       "      <th></th>\n",
       "      <th>0</th>\n",
       "      <th>1</th>\n",
       "      <th>2</th>\n",
       "    </tr>\n",
       "  </thead>\n",
       "  <tbody>\n",
       "    <tr>\n",
       "      <th>5</th>\n",
       "      <td>chr5</td>\n",
       "      <td>141853191</td>\n",
       "      <td>141853373</td>\n",
       "    </tr>\n",
       "    <tr>\n",
       "      <th>9</th>\n",
       "      <td>chr15</td>\n",
       "      <td>71394503</td>\n",
       "      <td>71394685</td>\n",
       "    </tr>\n",
       "    <tr>\n",
       "      <th>12</th>\n",
       "      <td>chr8</td>\n",
       "      <td>20996903</td>\n",
       "      <td>20997085</td>\n",
       "    </tr>\n",
       "    <tr>\n",
       "      <th>19</th>\n",
       "      <td>chr2</td>\n",
       "      <td>6821028</td>\n",
       "      <td>6821210</td>\n",
       "    </tr>\n",
       "    <tr>\n",
       "      <th>22</th>\n",
       "      <td>chr9</td>\n",
       "      <td>5020494</td>\n",
       "      <td>5020676</td>\n",
       "    </tr>\n",
       "  </tbody>\n",
       "</table>\n",
       "</div>"
      ],
      "text/plain": [
       "        0          1          2\n",
       "5    chr5  141853191  141853373\n",
       "9   chr15   71394503   71394685\n",
       "12   chr8   20996903   20997085\n",
       "19   chr2    6821028    6821210\n",
       "22   chr9    5020494    5020676"
      ]
     },
     "execution_count": 19,
     "metadata": {},
     "output_type": "execute_result"
    }
   ],
   "source": [
    "df_digenomeseq_only.iloc[:,1] = df_digenomeseq_only.iloc[:,1] - 80\n",
    "df_digenomeseq_only.iloc[:,2] = df_digenomeseq_only.iloc[:,2] + 80\n",
    "df_digenomeseq_only.head()"
   ]
  },
  {
   "cell_type": "code",
   "execution_count": 20,
   "metadata": {},
   "outputs": [
    {
     "data": {
      "text/plain": [
       "(32, 3)"
      ]
     },
     "execution_count": 20,
     "metadata": {},
     "output_type": "execute_result"
    }
   ],
   "source": [
    "df_detectseq_sharewith_digenomeseq.shape"
   ]
  },
  {
   "cell_type": "code",
   "execution_count": 21,
   "metadata": {},
   "outputs": [
    {
     "data": {
      "text/plain": [
       "(32, 3)"
      ]
     },
     "execution_count": 21,
     "metadata": {},
     "output_type": "execute_result"
    }
   ],
   "source": [
    "df_digenomeseq_sharewith_detectseq.shape"
   ]
  },
  {
   "cell_type": "code",
   "execution_count": 22,
   "metadata": {},
   "outputs": [],
   "source": [
    "# 所以用其中一个即可！\n",
    "df_share = df_detectseq_sharewith_digenomeseq"
   ]
  },
  {
   "cell_type": "code",
   "execution_count": 23,
   "metadata": {},
   "outputs": [
    {
     "data": {
      "text/html": [
       "<div>\n",
       "<style scoped>\n",
       "    .dataframe tbody tr th:only-of-type {\n",
       "        vertical-align: middle;\n",
       "    }\n",
       "\n",
       "    .dataframe tbody tr th {\n",
       "        vertical-align: top;\n",
       "    }\n",
       "\n",
       "    .dataframe thead th {\n",
       "        text-align: right;\n",
       "    }\n",
       "</style>\n",
       "<table border=\"1\" class=\"dataframe\">\n",
       "  <thead>\n",
       "    <tr style=\"text-align: right;\">\n",
       "      <th></th>\n",
       "      <th>0</th>\n",
       "      <th>1</th>\n",
       "      <th>2</th>\n",
       "    </tr>\n",
       "  </thead>\n",
       "  <tbody>\n",
       "    <tr>\n",
       "      <th>0</th>\n",
       "      <td>chr20</td>\n",
       "      <td>32761870</td>\n",
       "      <td>32762052</td>\n",
       "    </tr>\n",
       "    <tr>\n",
       "      <th>2</th>\n",
       "      <td>chr19</td>\n",
       "      <td>2474558</td>\n",
       "      <td>2474740</td>\n",
       "    </tr>\n",
       "    <tr>\n",
       "      <th>4</th>\n",
       "      <td>chr13</td>\n",
       "      <td>27055187</td>\n",
       "      <td>27055369</td>\n",
       "    </tr>\n",
       "    <tr>\n",
       "      <th>5</th>\n",
       "      <td>chr18</td>\n",
       "      <td>39614508</td>\n",
       "      <td>39614690</td>\n",
       "    </tr>\n",
       "    <tr>\n",
       "      <th>6</th>\n",
       "      <td>chr20</td>\n",
       "      <td>46714275</td>\n",
       "      <td>46714457</td>\n",
       "    </tr>\n",
       "  </tbody>\n",
       "</table>\n",
       "</div>"
      ],
      "text/plain": [
       "       0         1         2\n",
       "0  chr20  32761870  32762052\n",
       "2  chr19   2474558   2474740\n",
       "4  chr13  27055187  27055369\n",
       "5  chr18  39614508  39614690\n",
       "6  chr20  46714275  46714457"
      ]
     },
     "execution_count": 23,
     "metadata": {},
     "output_type": "execute_result"
    }
   ],
   "source": [
    "df_share.iloc[:,1] = df_share.iloc[:,1] - 80\n",
    "df_share.iloc[:,2] = df_share.iloc[:,2] + 80\n",
    "df_share.head()"
   ]
  },
  {
   "cell_type": "code",
   "execution_count": 24,
   "metadata": {},
   "outputs": [],
   "source": [
    "df_detectseq_only.to_csv('./bed/DetectSeq_vs_DigenomeSeq_Final-DetectSeqOnly_HEK4.bed', header=False, index=False, sep='\\t')\n",
    "df_digenomeseq_only.to_csv('./bed/DetectSeq_vs_DigenomeSeq_Final-DigenomeSeqOnly_HEK4.bed', header=False, index=False, sep='\\t')\n",
    "df_share.to_csv('./bed/DetectSeq_vs_DigenomeSeq_Final-DetectSeqShareWithDigenomeSeq_HEK4.bed', header=False, index=False, sep='\\t')"
   ]
  },
  {
   "cell_type": "markdown",
   "metadata": {},
   "source": [
    "## select random region and remove overlap regions"
   ]
  },
  {
   "cell_type": "code",
   "execution_count": 8,
   "metadata": {},
   "outputs": [],
   "source": [
    "# mysql --user=genome --host=genome-mysql.cse.ucsc.edu -A -e \\\n",
    "#         \"select chrom, size from hg38.chromInfo\"  > hg38.genome\n",
    "        \n",
    "        \n",
    "# bedtools random -seed 20201119 -l 180 -n 100 -g hg38.genome > ./bed/random_seed-20201119_l-180_n-100_hg38.bed\n",
    "\n",
    "\n",
    "# cat DetectSeq_vs_DigenomeSeq_Final-DetectSeqOnly_HEK4.bed DetectSeq_vs_DigenomeSeq_Final-DetectSeqShareWithDigenomeSeq_HEK4.bed DetectSeq_vs_DigenomeSeq_Final-DigenomeSeqOnly_HEK4.bed > all_find_region.bed\n",
    "\n",
    "# bedtools intersect -a random_seed-20201119_l-180_n-200_hg38.bed -b all_find_region.bed -loj | awk -F '\\t' '{if( $8==-1 ){print $0}}' > final_random_seed-20201119_l-180_n-200_hg38.bed"
   ]
  },
  {
   "cell_type": "code",
   "execution_count": 15,
   "metadata": {},
   "outputs": [
    {
     "data": {
      "text/plain": [
       "'>chr6:133070507-133070687\\nACTGAACATAGATTTATTGCCAATGACTTTTGTAAGGCGGGTGGATTGAGGCTGCTAATGTAGGTTTATGAGTACAGCTGGTCCATTTAACAGCAGGTTTATAGGCACTCCTCAAGAGCGGCCCATGTCTGTAGAAGGTATGGTATCACACAGACTGTTGGACAGATGGGCCCATCTATG\\n>chr13:51989834-51990014\\nCTCTAATAACACTCTGTATTTCAAGCCTTTCCCAACAAAGAGGTTTTATTTATTTATTTTTTTTACTCTGTACTCCAAGGAGTATTGGTTTCTGCCTAGAATTATAGGTATGACACATAAAACAAATGTATTCCTTTAAGACATGTACAAACCTAATGTTTATAAATTAGCACTACTCTA\\n>chr13:108676738-108676918\\nagaggcgtggTTTGTTACTCTGGTAGTCCCAGGGTCAGCAGTTCCCAGAATGGGAAATGTACTTGCTTTCTGCTGTGTCTACTGTGTCTTTGCTCCAGGGATTCCCCAACCCGCCAGGAACACCCTTCCTCCATTCCTTGCAGATGTACCTCTCCTCTCCCCTGCGGAGCCCTCCCCGAC\\n>chrY:33927738-33927918\\nNNNNNNNNNNNNNNNNNNNNNNNNNNNNNNNNNNNNNNNNNNNNNNNNNNNNNNNNNNNNNNNNNNNNNNNNNNNNNNNNNNNNNNNNNNNNNNNNNNNNNNNNNNNNNNNNNNNNNNNNNNNNNNNNNNNNNNNNNNNNNNNNNNNNNNNNNNNNNNNNNNNNNNNNNNNNNNNNNNNN\\n>chr1:149553584-149553764\\nCAGTTTCTGGGAGAAAAACCGAGGAATTTCTATCATGACCAGCCTTCAGGCCTCCTGAAATATATCTCTCACAGTGTCCTATTCTTATGCTGAGGAGCCTGAGGTCCCTGTGTGAGGATTAGACAGTGGATTGTTATGTGTGTAGGGG'"
      ]
     },
     "execution_count": 15,
     "metadata": {},
     "output_type": "execute_result"
    }
   ],
   "source": [
    "with open('../bed/fasta_info_for_remove_N_bed.fa') as f:\n",
    "    TXT = f.read()\n",
    "TXT[:1000]"
   ]
  },
  {
   "cell_type": "code",
   "execution_count": 25,
   "metadata": {},
   "outputs": [
    {
     "data": {
      "text/plain": [
       "[['chr6', '133070507', '133070687'],\n",
       " ['chr13', '51989834', '51990014'],\n",
       " ['chr13', '108676738', '108676918'],\n",
       " ['chr1', '149553584', '149553764'],\n",
       " ['chr3', '135813307', '135813487']]"
      ]
     },
     "execution_count": 25,
     "metadata": {},
     "output_type": "execute_result"
    }
   ],
   "source": [
    "ls_random_bed = [ [i.split('\\n')[0].split(':')[0], i.split('\\n')[0].split(':')[1].split('-')[0], i.split('\\n')[0].split(':')[1].split('-')[1]] for i in TXT.split(\">\") if i != '' and 'N' not in i and 'n' not in i]\n",
    "ls_random_bed[:5]"
   ]
  },
  {
   "cell_type": "code",
   "execution_count": 27,
   "metadata": {},
   "outputs": [
    {
     "data": {
      "text/html": [
       "<div>\n",
       "<style scoped>\n",
       "    .dataframe tbody tr th:only-of-type {\n",
       "        vertical-align: middle;\n",
       "    }\n",
       "\n",
       "    .dataframe tbody tr th {\n",
       "        vertical-align: top;\n",
       "    }\n",
       "\n",
       "    .dataframe thead th {\n",
       "        text-align: right;\n",
       "    }\n",
       "</style>\n",
       "<table border=\"1\" class=\"dataframe\">\n",
       "  <thead>\n",
       "    <tr style=\"text-align: right;\">\n",
       "      <th></th>\n",
       "      <th>0</th>\n",
       "      <th>1</th>\n",
       "      <th>2</th>\n",
       "    </tr>\n",
       "  </thead>\n",
       "  <tbody>\n",
       "    <tr>\n",
       "      <th>0</th>\n",
       "      <td>chr6</td>\n",
       "      <td>133070507</td>\n",
       "      <td>133070687</td>\n",
       "    </tr>\n",
       "    <tr>\n",
       "      <th>1</th>\n",
       "      <td>chr13</td>\n",
       "      <td>51989834</td>\n",
       "      <td>51990014</td>\n",
       "    </tr>\n",
       "    <tr>\n",
       "      <th>2</th>\n",
       "      <td>chr13</td>\n",
       "      <td>108676738</td>\n",
       "      <td>108676918</td>\n",
       "    </tr>\n",
       "    <tr>\n",
       "      <th>3</th>\n",
       "      <td>chr1</td>\n",
       "      <td>149553584</td>\n",
       "      <td>149553764</td>\n",
       "    </tr>\n",
       "    <tr>\n",
       "      <th>4</th>\n",
       "      <td>chr3</td>\n",
       "      <td>135813307</td>\n",
       "      <td>135813487</td>\n",
       "    </tr>\n",
       "  </tbody>\n",
       "</table>\n",
       "</div>"
      ],
      "text/plain": [
       "       0          1          2\n",
       "0   chr6  133070507  133070687\n",
       "1  chr13   51989834   51990014\n",
       "2  chr13  108676738  108676918\n",
       "3   chr1  149553584  149553764\n",
       "4   chr3  135813307  135813487"
      ]
     },
     "execution_count": 27,
     "metadata": {},
     "output_type": "execute_result"
    }
   ],
   "source": [
    "df_random = pd.DataFrame(ls_random_bed)\n",
    "\n",
    "df_random.head()"
   ]
  },
  {
   "cell_type": "code",
   "execution_count": 28,
   "metadata": {},
   "outputs": [
    {
     "data": {
      "text/plain": [
       "(172, 3)"
      ]
     },
     "execution_count": 28,
     "metadata": {},
     "output_type": "execute_result"
    }
   ],
   "source": [
    "df_random.shape"
   ]
  },
  {
   "cell_type": "code",
   "execution_count": 29,
   "metadata": {},
   "outputs": [],
   "source": [
    "df_random.to_csv('../bed/DetectSeq_vs_DigenomeSeq_Final-Random.bed', header=False, index=False, sep='\\t')"
   ]
  },
  {
   "cell_type": "code",
   "execution_count": null,
   "metadata": {},
   "outputs": [],
   "source": []
  }
 ],
 "metadata": {
  "kernelspec": {
   "display_name": "Python 3",
   "language": "python",
   "name": "python3"
  },
  "language_info": {
   "codemirror_mode": {
    "name": "ipython",
    "version": 3
   },
   "file_extension": ".py",
   "mimetype": "text/x-python",
   "name": "python",
   "nbconvert_exporter": "python",
   "pygments_lexer": "ipython3",
   "version": "3.8.3"
  }
 },
 "nbformat": 4,
 "nbformat_minor": 4
}
